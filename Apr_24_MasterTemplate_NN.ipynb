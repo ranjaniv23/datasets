{
  "nbformat": 4,
  "nbformat_minor": 0,
  "metadata": {
    "colab": {
      "provenance": [],
      "include_colab_link": true
    },
    "kernelspec": {
      "name": "python3",
      "display_name": "Python 3"
    },
    "language_info": {
      "name": "python"
    }
  },
  "cells": [
    {
      "cell_type": "markdown",
      "metadata": {
        "id": "view-in-github",
        "colab_type": "text"
      },
      "source": [
        "<a href=\"https://colab.research.google.com/github/ranjaniv23/datasets/blob/main/Apr_24_MasterTemplate_NN.ipynb\" target=\"_parent\"><img src=\"https://colab.research.google.com/assets/colab-badge.svg\" alt=\"Open In Colab\"/></a>"
      ]
    },
    {
      "cell_type": "markdown",
      "source": [
        "\n",
        "\n",
        "# Process of building a NN\n",
        "1. Define the Model - define topology, network arch, etc. (creating a class)\n",
        "* ...\n",
        "# define the model\n",
        "model = ...\n",
        "2. Compile the model - loss function, optimization (Adam, sgd) Gradient Descent.  (instantiating a class into an object) - \n",
        "* https://www.tensorflow.org/api_docs/python/tf/keras/optimizers.  \n",
        "The three most common loss functions are:\n",
        "* https://www.tensorflow.org/api_docs/python/tf/keras/losses\n",
        "* ‘binary_crossentropy‘ for binary classification\n",
        "* ‘sparse_categorical_crossentropy‘ for multi-class classification\n",
        "* ‘mse‘ (mean squared error) for regression\n",
        "* Metrics: https://www.tensorflow.org/api_docs/python/tf/keras/metrics\n",
        "* ...\n",
        "# compile the model\n",
        "model.compile(optimizer='sgd', loss='binary_crossentropy', metrics=['accuracy'])\n",
        "3. Fit the model - epochs (loops through the training dataset) and the batch size: num of samples ni an epoch used to estimate the models error. Slow. Training Process... cpu intensive\n",
        "* # fit the model\n",
        "model.fit(X, y, epochs=100, batch_size=32, verbose=0)\n",
        "4. Evaluation of the model\n",
        "* ...\n",
        "# evaluate the model\n",
        "loss = model.evaluate(X, y, verbose=0)\n",
        "5. Make Predictions\n",
        "* ...\n",
        "# make a prediction\n",
        "yhat = model.predict(X)\n",
        "\n",
        "\n",
        "\n"
      ],
      "metadata": {
        "id": "K7ezvlyKZQwX"
      }
    },
    {
      "cell_type": "code",
      "execution_count": null,
      "metadata": {
        "id": "IbnP6s0EYt34"
      },
      "outputs": [],
      "source": [
        "# https://raw.githubusercontent.com/fenago/datasets/main/iris.csv\n",
        "\n",
        "# mlp for multiclass classification\n",
        "from numpy import argmax\n",
        "from pandas import read_csv\n",
        "from sklearn.model_selection import train_test_split\n",
        "from sklearn.preprocessing import LabelEncoder\n",
        "from tensorflow.keras import Sequential\n",
        "from tensorflow.keras.layers import Dense"
      ]
    },
    {
      "cell_type": "code",
      "source": [
        "path = \"https://raw.githubusercontent.com/fenago/datasets/main/iris.csv\"\n",
        "df = read_csv(path, header=None)\n",
        "df.sample(5)"
      ],
      "metadata": {
        "colab": {
          "base_uri": "https://localhost:8080/",
          "height": 206
        },
        "id": "NdcM31FXd702",
        "outputId": "1a0ab2da-8100-41c4-fa9e-58594037015e"
      },
      "execution_count": null,
      "outputs": [
        {
          "output_type": "execute_result",
          "data": {
            "text/plain": [
              "       0    1    2    3               4\n",
              "112  6.8  3.0  5.5  2.1  Iris-virginica\n",
              "141  6.9  3.1  5.1  2.3  Iris-virginica\n",
              "42   4.4  3.2  1.3  0.2     Iris-setosa\n",
              "108  6.7  2.5  5.8  1.8  Iris-virginica\n",
              "23   5.1  3.3  1.7  0.5     Iris-setosa"
            ],
            "text/html": [
              "\n",
              "  <div id=\"df-dbc336be-fe2a-4d9d-a5cf-81aa1a00bf99\">\n",
              "    <div class=\"colab-df-container\">\n",
              "      <div>\n",
              "<style scoped>\n",
              "    .dataframe tbody tr th:only-of-type {\n",
              "        vertical-align: middle;\n",
              "    }\n",
              "\n",
              "    .dataframe tbody tr th {\n",
              "        vertical-align: top;\n",
              "    }\n",
              "\n",
              "    .dataframe thead th {\n",
              "        text-align: right;\n",
              "    }\n",
              "</style>\n",
              "<table border=\"1\" class=\"dataframe\">\n",
              "  <thead>\n",
              "    <tr style=\"text-align: right;\">\n",
              "      <th></th>\n",
              "      <th>0</th>\n",
              "      <th>1</th>\n",
              "      <th>2</th>\n",
              "      <th>3</th>\n",
              "      <th>4</th>\n",
              "    </tr>\n",
              "  </thead>\n",
              "  <tbody>\n",
              "    <tr>\n",
              "      <th>112</th>\n",
              "      <td>6.8</td>\n",
              "      <td>3.0</td>\n",
              "      <td>5.5</td>\n",
              "      <td>2.1</td>\n",
              "      <td>Iris-virginica</td>\n",
              "    </tr>\n",
              "    <tr>\n",
              "      <th>141</th>\n",
              "      <td>6.9</td>\n",
              "      <td>3.1</td>\n",
              "      <td>5.1</td>\n",
              "      <td>2.3</td>\n",
              "      <td>Iris-virginica</td>\n",
              "    </tr>\n",
              "    <tr>\n",
              "      <th>42</th>\n",
              "      <td>4.4</td>\n",
              "      <td>3.2</td>\n",
              "      <td>1.3</td>\n",
              "      <td>0.2</td>\n",
              "      <td>Iris-setosa</td>\n",
              "    </tr>\n",
              "    <tr>\n",
              "      <th>108</th>\n",
              "      <td>6.7</td>\n",
              "      <td>2.5</td>\n",
              "      <td>5.8</td>\n",
              "      <td>1.8</td>\n",
              "      <td>Iris-virginica</td>\n",
              "    </tr>\n",
              "    <tr>\n",
              "      <th>23</th>\n",
              "      <td>5.1</td>\n",
              "      <td>3.3</td>\n",
              "      <td>1.7</td>\n",
              "      <td>0.5</td>\n",
              "      <td>Iris-setosa</td>\n",
              "    </tr>\n",
              "  </tbody>\n",
              "</table>\n",
              "</div>\n",
              "      <button class=\"colab-df-convert\" onclick=\"convertToInteractive('df-dbc336be-fe2a-4d9d-a5cf-81aa1a00bf99')\"\n",
              "              title=\"Convert this dataframe to an interactive table.\"\n",
              "              style=\"display:none;\">\n",
              "        \n",
              "  <svg xmlns=\"http://www.w3.org/2000/svg\" height=\"24px\"viewBox=\"0 0 24 24\"\n",
              "       width=\"24px\">\n",
              "    <path d=\"M0 0h24v24H0V0z\" fill=\"none\"/>\n",
              "    <path d=\"M18.56 5.44l.94 2.06.94-2.06 2.06-.94-2.06-.94-.94-2.06-.94 2.06-2.06.94zm-11 1L8.5 8.5l.94-2.06 2.06-.94-2.06-.94L8.5 2.5l-.94 2.06-2.06.94zm10 10l.94 2.06.94-2.06 2.06-.94-2.06-.94-.94-2.06-.94 2.06-2.06.94z\"/><path d=\"M17.41 7.96l-1.37-1.37c-.4-.4-.92-.59-1.43-.59-.52 0-1.04.2-1.43.59L10.3 9.45l-7.72 7.72c-.78.78-.78 2.05 0 2.83L4 21.41c.39.39.9.59 1.41.59.51 0 1.02-.2 1.41-.59l7.78-7.78 2.81-2.81c.8-.78.8-2.07 0-2.86zM5.41 20L4 18.59l7.72-7.72 1.47 1.35L5.41 20z\"/>\n",
              "  </svg>\n",
              "      </button>\n",
              "      \n",
              "  <style>\n",
              "    .colab-df-container {\n",
              "      display:flex;\n",
              "      flex-wrap:wrap;\n",
              "      gap: 12px;\n",
              "    }\n",
              "\n",
              "    .colab-df-convert {\n",
              "      background-color: #E8F0FE;\n",
              "      border: none;\n",
              "      border-radius: 50%;\n",
              "      cursor: pointer;\n",
              "      display: none;\n",
              "      fill: #1967D2;\n",
              "      height: 32px;\n",
              "      padding: 0 0 0 0;\n",
              "      width: 32px;\n",
              "    }\n",
              "\n",
              "    .colab-df-convert:hover {\n",
              "      background-color: #E2EBFA;\n",
              "      box-shadow: 0px 1px 2px rgba(60, 64, 67, 0.3), 0px 1px 3px 1px rgba(60, 64, 67, 0.15);\n",
              "      fill: #174EA6;\n",
              "    }\n",
              "\n",
              "    [theme=dark] .colab-df-convert {\n",
              "      background-color: #3B4455;\n",
              "      fill: #D2E3FC;\n",
              "    }\n",
              "\n",
              "    [theme=dark] .colab-df-convert:hover {\n",
              "      background-color: #434B5C;\n",
              "      box-shadow: 0px 1px 3px 1px rgba(0, 0, 0, 0.15);\n",
              "      filter: drop-shadow(0px 1px 2px rgba(0, 0, 0, 0.3));\n",
              "      fill: #FFFFFF;\n",
              "    }\n",
              "  </style>\n",
              "\n",
              "      <script>\n",
              "        const buttonEl =\n",
              "          document.querySelector('#df-dbc336be-fe2a-4d9d-a5cf-81aa1a00bf99 button.colab-df-convert');\n",
              "        buttonEl.style.display =\n",
              "          google.colab.kernel.accessAllowed ? 'block' : 'none';\n",
              "\n",
              "        async function convertToInteractive(key) {\n",
              "          const element = document.querySelector('#df-dbc336be-fe2a-4d9d-a5cf-81aa1a00bf99');\n",
              "          const dataTable =\n",
              "            await google.colab.kernel.invokeFunction('convertToInteractive',\n",
              "                                                     [key], {});\n",
              "          if (!dataTable) return;\n",
              "\n",
              "          const docLinkHtml = 'Like what you see? Visit the ' +\n",
              "            '<a target=\"_blank\" href=https://colab.research.google.com/notebooks/data_table.ipynb>data table notebook</a>'\n",
              "            + ' to learn more about interactive tables.';\n",
              "          element.innerHTML = '';\n",
              "          dataTable['output_type'] = 'display_data';\n",
              "          await google.colab.output.renderOutput(dataTable, element);\n",
              "          const docLink = document.createElement('div');\n",
              "          docLink.innerHTML = docLinkHtml;\n",
              "          element.appendChild(docLink);\n",
              "        }\n",
              "      </script>\n",
              "    </div>\n",
              "  </div>\n",
              "  "
            ]
          },
          "metadata": {},
          "execution_count": 3
        }
      ]
    },
    {
      "cell_type": "code",
      "source": [
        "# split into input and output columns\n",
        "X, y = df.values[:, :-1], df.values[:, -1]"
      ],
      "metadata": {
        "id": "xl1axCC1eHYg"
      },
      "execution_count": null,
      "outputs": []
    },
    {
      "cell_type": "code",
      "source": [
        "# ensure all data are floating point values\n",
        "X = X.astype('float32')"
      ],
      "metadata": {
        "id": "4AjVIIRUeYwW"
      },
      "execution_count": null,
      "outputs": []
    },
    {
      "cell_type": "code",
      "source": [
        "# encode strings to integer\n",
        "y = LabelEncoder().fit_transform(y)"
      ],
      "metadata": {
        "id": "tBogNetQectP"
      },
      "execution_count": null,
      "outputs": []
    },
    {
      "cell_type": "code",
      "source": [
        "# split into train and test datasets\n",
        "X_train, X_test, y_train, y_test = train_test_split(X, y, test_size=0.33)\n",
        "print(X_train.shape, X_test.shape, y_train.shape, y_test.shape)"
      ],
      "metadata": {
        "colab": {
          "base_uri": "https://localhost:8080/"
        },
        "id": "wq20-qZyeejW",
        "outputId": "d092fa71-cae9-44df-f268-dec896c4695b"
      },
      "execution_count": null,
      "outputs": [
        {
          "output_type": "stream",
          "name": "stdout",
          "text": [
            "(100, 4) (50, 4) (100,) (50,)\n"
          ]
        }
      ]
    },
    {
      "cell_type": "code",
      "source": [
        "# determine the number of input features\n",
        "n_features = X_train.shape[1]\n",
        "n_features"
      ],
      "metadata": {
        "colab": {
          "base_uri": "https://localhost:8080/"
        },
        "id": "LqI1I9zweriu",
        "outputId": "a3e66e81-9b1a-4f01-8ae4-43f8e4fa844b"
      },
      "execution_count": null,
      "outputs": [
        {
          "output_type": "execute_result",
          "data": {
            "text/plain": [
              "4"
            ]
          },
          "metadata": {},
          "execution_count": 9
        }
      ]
    },
    {
      "cell_type": "code",
      "source": [
        "# Once the data has been preprocessed.  Go into the 5 steps to build a NN\n",
        "# define model - Step 1\n",
        "model = Sequential()\n",
        "model.add(Dense(10, activation='relu', kernel_initializer='he_normal', input_shape=(n_features,)))\n",
        "model.add(Dense(8, activation='relu', kernel_initializer='he_normal'))\n",
        "model.add(Dense(3, activation='softmax'))"
      ],
      "metadata": {
        "id": "ye_DBseHevWd"
      },
      "execution_count": null,
      "outputs": []
    },
    {
      "cell_type": "code",
      "source": [
        "# Step 2: Compile the model\n",
        "# compile the model\n",
        "model.compile(optimizer='adam', loss='sparse_categorical_crossentropy', metrics=['accuracy'])"
      ],
      "metadata": {
        "id": "m-gayLW5gO1Q"
      },
      "execution_count": null,
      "outputs": []
    },
    {
      "cell_type": "code",
      "source": [
        "# Step 3: Fit the model (train it)\n",
        "# fit the model\n",
        "model.fit(X_train, y_train, epochs=150, batch_size=32, verbose=2)"
      ],
      "metadata": {
        "colab": {
          "base_uri": "https://localhost:8080/"
        },
        "id": "oOMsGRZ3ghJP",
        "outputId": "3390bd7c-e667-4b87-e9d9-44ce52304074"
      },
      "execution_count": null,
      "outputs": [
        {
          "output_type": "stream",
          "name": "stdout",
          "text": [
            "Epoch 1/150\n",
            "4/4 - 0s - loss: 0.0868 - accuracy: 0.9800 - 14ms/epoch - 3ms/step\n",
            "Epoch 2/150\n",
            "4/4 - 0s - loss: 0.0862 - accuracy: 0.9900 - 13ms/epoch - 3ms/step\n",
            "Epoch 3/150\n",
            "4/4 - 0s - loss: 0.0871 - accuracy: 0.9900 - 16ms/epoch - 4ms/step\n",
            "Epoch 4/150\n",
            "4/4 - 0s - loss: 0.0868 - accuracy: 0.9900 - 16ms/epoch - 4ms/step\n",
            "Epoch 5/150\n",
            "4/4 - 0s - loss: 0.0863 - accuracy: 0.9900 - 15ms/epoch - 4ms/step\n",
            "Epoch 6/150\n",
            "4/4 - 0s - loss: 0.0853 - accuracy: 0.9900 - 15ms/epoch - 4ms/step\n",
            "Epoch 7/150\n",
            "4/4 - 0s - loss: 0.0852 - accuracy: 0.9900 - 17ms/epoch - 4ms/step\n",
            "Epoch 8/150\n",
            "4/4 - 0s - loss: 0.0848 - accuracy: 0.9900 - 13ms/epoch - 3ms/step\n",
            "Epoch 9/150\n",
            "4/4 - 0s - loss: 0.0853 - accuracy: 0.9900 - 16ms/epoch - 4ms/step\n",
            "Epoch 10/150\n",
            "4/4 - 0s - loss: 0.0846 - accuracy: 0.9900 - 15ms/epoch - 4ms/step\n",
            "Epoch 11/150\n",
            "4/4 - 0s - loss: 0.0843 - accuracy: 0.9900 - 17ms/epoch - 4ms/step\n",
            "Epoch 12/150\n",
            "4/4 - 0s - loss: 0.0841 - accuracy: 0.9900 - 14ms/epoch - 3ms/step\n",
            "Epoch 13/150\n",
            "4/4 - 0s - loss: 0.0835 - accuracy: 0.9900 - 21ms/epoch - 5ms/step\n",
            "Epoch 14/150\n",
            "4/4 - 0s - loss: 0.0832 - accuracy: 0.9900 - 18ms/epoch - 4ms/step\n",
            "Epoch 15/150\n",
            "4/4 - 0s - loss: 0.0834 - accuracy: 0.9900 - 17ms/epoch - 4ms/step\n",
            "Epoch 16/150\n",
            "4/4 - 0s - loss: 0.0829 - accuracy: 0.9900 - 19ms/epoch - 5ms/step\n",
            "Epoch 17/150\n",
            "4/4 - 0s - loss: 0.0825 - accuracy: 0.9900 - 18ms/epoch - 4ms/step\n",
            "Epoch 18/150\n",
            "4/4 - 0s - loss: 0.0823 - accuracy: 0.9900 - 14ms/epoch - 4ms/step\n",
            "Epoch 19/150\n",
            "4/4 - 0s - loss: 0.0826 - accuracy: 0.9800 - 21ms/epoch - 5ms/step\n",
            "Epoch 20/150\n",
            "4/4 - 0s - loss: 0.0826 - accuracy: 0.9800 - 13ms/epoch - 3ms/step\n",
            "Epoch 21/150\n",
            "4/4 - 0s - loss: 0.0818 - accuracy: 0.9800 - 14ms/epoch - 4ms/step\n",
            "Epoch 22/150\n",
            "4/4 - 0s - loss: 0.0814 - accuracy: 0.9900 - 13ms/epoch - 3ms/step\n",
            "Epoch 23/150\n",
            "4/4 - 0s - loss: 0.0814 - accuracy: 0.9900 - 14ms/epoch - 4ms/step\n",
            "Epoch 24/150\n",
            "4/4 - 0s - loss: 0.0810 - accuracy: 0.9900 - 17ms/epoch - 4ms/step\n",
            "Epoch 25/150\n",
            "4/4 - 0s - loss: 0.0827 - accuracy: 0.9900 - 13ms/epoch - 3ms/step\n",
            "Epoch 26/150\n",
            "4/4 - 0s - loss: 0.0817 - accuracy: 0.9900 - 18ms/epoch - 4ms/step\n",
            "Epoch 27/150\n",
            "4/4 - 0s - loss: 0.0813 - accuracy: 0.9900 - 25ms/epoch - 6ms/step\n",
            "Epoch 28/150\n",
            "4/4 - 0s - loss: 0.0800 - accuracy: 0.9900 - 25ms/epoch - 6ms/step\n",
            "Epoch 29/150\n",
            "4/4 - 0s - loss: 0.0798 - accuracy: 0.9900 - 18ms/epoch - 5ms/step\n",
            "Epoch 30/150\n",
            "4/4 - 0s - loss: 0.0795 - accuracy: 0.9800 - 14ms/epoch - 4ms/step\n",
            "Epoch 31/150\n",
            "4/4 - 0s - loss: 0.0792 - accuracy: 0.9800 - 20ms/epoch - 5ms/step\n",
            "Epoch 32/150\n",
            "4/4 - 0s - loss: 0.0787 - accuracy: 0.9800 - 16ms/epoch - 4ms/step\n",
            "Epoch 33/150\n",
            "4/4 - 0s - loss: 0.0787 - accuracy: 0.9800 - 18ms/epoch - 4ms/step\n",
            "Epoch 34/150\n",
            "4/4 - 0s - loss: 0.0781 - accuracy: 0.9900 - 22ms/epoch - 5ms/step\n",
            "Epoch 35/150\n",
            "4/4 - 0s - loss: 0.0778 - accuracy: 0.9900 - 16ms/epoch - 4ms/step\n",
            "Epoch 36/150\n",
            "4/4 - 0s - loss: 0.0778 - accuracy: 0.9800 - 14ms/epoch - 3ms/step\n",
            "Epoch 37/150\n",
            "4/4 - 0s - loss: 0.0775 - accuracy: 0.9800 - 13ms/epoch - 3ms/step\n",
            "Epoch 38/150\n",
            "4/4 - 0s - loss: 0.0774 - accuracy: 0.9900 - 16ms/epoch - 4ms/step\n",
            "Epoch 39/150\n",
            "4/4 - 0s - loss: 0.0769 - accuracy: 0.9900 - 15ms/epoch - 4ms/step\n",
            "Epoch 40/150\n",
            "4/4 - 0s - loss: 0.0772 - accuracy: 0.9800 - 15ms/epoch - 4ms/step\n",
            "Epoch 41/150\n",
            "4/4 - 0s - loss: 0.0767 - accuracy: 0.9800 - 12ms/epoch - 3ms/step\n",
            "Epoch 42/150\n",
            "4/4 - 0s - loss: 0.0766 - accuracy: 0.9800 - 13ms/epoch - 3ms/step\n",
            "Epoch 43/150\n",
            "4/4 - 0s - loss: 0.0766 - accuracy: 0.9800 - 14ms/epoch - 4ms/step\n",
            "Epoch 44/150\n",
            "4/4 - 0s - loss: 0.0765 - accuracy: 0.9800 - 19ms/epoch - 5ms/step\n",
            "Epoch 45/150\n",
            "4/4 - 0s - loss: 0.0764 - accuracy: 0.9800 - 14ms/epoch - 4ms/step\n",
            "Epoch 46/150\n",
            "4/4 - 0s - loss: 0.0756 - accuracy: 0.9800 - 13ms/epoch - 3ms/step\n",
            "Epoch 47/150\n",
            "4/4 - 0s - loss: 0.0753 - accuracy: 0.9800 - 15ms/epoch - 4ms/step\n",
            "Epoch 48/150\n",
            "4/4 - 0s - loss: 0.0750 - accuracy: 0.9900 - 12ms/epoch - 3ms/step\n",
            "Epoch 49/150\n",
            "4/4 - 0s - loss: 0.0743 - accuracy: 0.9900 - 12ms/epoch - 3ms/step\n",
            "Epoch 50/150\n",
            "4/4 - 0s - loss: 0.0772 - accuracy: 0.9900 - 12ms/epoch - 3ms/step\n",
            "Epoch 51/150\n",
            "4/4 - 0s - loss: 0.0772 - accuracy: 0.9900 - 13ms/epoch - 3ms/step\n",
            "Epoch 52/150\n",
            "4/4 - 0s - loss: 0.0761 - accuracy: 0.9900 - 12ms/epoch - 3ms/step\n",
            "Epoch 53/150\n",
            "4/4 - 0s - loss: 0.0739 - accuracy: 0.9900 - 14ms/epoch - 3ms/step\n",
            "Epoch 54/150\n",
            "4/4 - 0s - loss: 0.0739 - accuracy: 0.9800 - 17ms/epoch - 4ms/step\n",
            "Epoch 55/150\n",
            "4/4 - 0s - loss: 0.0780 - accuracy: 0.9800 - 14ms/epoch - 3ms/step\n",
            "Epoch 56/150\n",
            "4/4 - 0s - loss: 0.0760 - accuracy: 0.9800 - 16ms/epoch - 4ms/step\n",
            "Epoch 57/150\n",
            "4/4 - 0s - loss: 0.0714 - accuracy: 0.9800 - 17ms/epoch - 4ms/step\n",
            "Epoch 58/150\n",
            "4/4 - 0s - loss: 0.0826 - accuracy: 0.9800 - 16ms/epoch - 4ms/step\n",
            "Epoch 59/150\n",
            "4/4 - 0s - loss: 0.0883 - accuracy: 0.9800 - 15ms/epoch - 4ms/step\n",
            "Epoch 60/150\n",
            "4/4 - 0s - loss: 0.0851 - accuracy: 0.9800 - 15ms/epoch - 4ms/step\n",
            "Epoch 61/150\n",
            "4/4 - 0s - loss: 0.0790 - accuracy: 0.9800 - 17ms/epoch - 4ms/step\n",
            "Epoch 62/150\n",
            "4/4 - 0s - loss: 0.0739 - accuracy: 0.9900 - 17ms/epoch - 4ms/step\n",
            "Epoch 63/150\n",
            "4/4 - 0s - loss: 0.0732 - accuracy: 0.9900 - 13ms/epoch - 3ms/step\n",
            "Epoch 64/150\n",
            "4/4 - 0s - loss: 0.0723 - accuracy: 0.9800 - 15ms/epoch - 4ms/step\n",
            "Epoch 65/150\n",
            "4/4 - 0s - loss: 0.0723 - accuracy: 0.9800 - 16ms/epoch - 4ms/step\n",
            "Epoch 66/150\n",
            "4/4 - 0s - loss: 0.0721 - accuracy: 0.9800 - 13ms/epoch - 3ms/step\n",
            "Epoch 67/150\n",
            "4/4 - 0s - loss: 0.0715 - accuracy: 0.9800 - 13ms/epoch - 3ms/step\n",
            "Epoch 68/150\n",
            "4/4 - 0s - loss: 0.0710 - accuracy: 0.9900 - 14ms/epoch - 3ms/step\n",
            "Epoch 69/150\n",
            "4/4 - 0s - loss: 0.0709 - accuracy: 0.9900 - 14ms/epoch - 4ms/step\n",
            "Epoch 70/150\n",
            "4/4 - 0s - loss: 0.0708 - accuracy: 0.9900 - 14ms/epoch - 3ms/step\n",
            "Epoch 71/150\n",
            "4/4 - 0s - loss: 0.0706 - accuracy: 0.9900 - 13ms/epoch - 3ms/step\n",
            "Epoch 72/150\n",
            "4/4 - 0s - loss: 0.0708 - accuracy: 0.9900 - 16ms/epoch - 4ms/step\n",
            "Epoch 73/150\n",
            "4/4 - 0s - loss: 0.0699 - accuracy: 0.9900 - 13ms/epoch - 3ms/step\n",
            "Epoch 74/150\n",
            "4/4 - 0s - loss: 0.0702 - accuracy: 0.9800 - 16ms/epoch - 4ms/step\n",
            "Epoch 75/150\n",
            "4/4 - 0s - loss: 0.0705 - accuracy: 0.9800 - 24ms/epoch - 6ms/step\n",
            "Epoch 76/150\n",
            "4/4 - 0s - loss: 0.0714 - accuracy: 0.9800 - 14ms/epoch - 4ms/step\n",
            "Epoch 77/150\n",
            "4/4 - 0s - loss: 0.0729 - accuracy: 0.9800 - 14ms/epoch - 4ms/step\n",
            "Epoch 78/150\n",
            "4/4 - 0s - loss: 0.0721 - accuracy: 0.9800 - 13ms/epoch - 3ms/step\n",
            "Epoch 79/150\n",
            "4/4 - 0s - loss: 0.0705 - accuracy: 0.9800 - 17ms/epoch - 4ms/step\n",
            "Epoch 80/150\n",
            "4/4 - 0s - loss: 0.0697 - accuracy: 0.9900 - 17ms/epoch - 4ms/step\n",
            "Epoch 81/150\n",
            "4/4 - 0s - loss: 0.0690 - accuracy: 0.9900 - 15ms/epoch - 4ms/step\n",
            "Epoch 82/150\n",
            "4/4 - 0s - loss: 0.0692 - accuracy: 0.9900 - 15ms/epoch - 4ms/step\n",
            "Epoch 83/150\n",
            "4/4 - 0s - loss: 0.0693 - accuracy: 0.9900 - 15ms/epoch - 4ms/step\n",
            "Epoch 84/150\n",
            "4/4 - 0s - loss: 0.0686 - accuracy: 0.9900 - 15ms/epoch - 4ms/step\n",
            "Epoch 85/150\n",
            "4/4 - 0s - loss: 0.0683 - accuracy: 0.9900 - 16ms/epoch - 4ms/step\n",
            "Epoch 86/150\n",
            "4/4 - 0s - loss: 0.0680 - accuracy: 0.9900 - 16ms/epoch - 4ms/step\n",
            "Epoch 87/150\n",
            "4/4 - 0s - loss: 0.0682 - accuracy: 0.9800 - 14ms/epoch - 4ms/step\n",
            "Epoch 88/150\n",
            "4/4 - 0s - loss: 0.0678 - accuracy: 0.9800 - 24ms/epoch - 6ms/step\n",
            "Epoch 89/150\n",
            "4/4 - 0s - loss: 0.0677 - accuracy: 0.9800 - 20ms/epoch - 5ms/step\n",
            "Epoch 90/150\n",
            "4/4 - 0s - loss: 0.0671 - accuracy: 0.9900 - 20ms/epoch - 5ms/step\n",
            "Epoch 91/150\n",
            "4/4 - 0s - loss: 0.0674 - accuracy: 0.9900 - 13ms/epoch - 3ms/step\n",
            "Epoch 92/150\n",
            "4/4 - 0s - loss: 0.0697 - accuracy: 0.9900 - 13ms/epoch - 3ms/step\n",
            "Epoch 93/150\n",
            "4/4 - 0s - loss: 0.0717 - accuracy: 0.9800 - 16ms/epoch - 4ms/step\n",
            "Epoch 94/150\n",
            "4/4 - 0s - loss: 0.0700 - accuracy: 0.9900 - 13ms/epoch - 3ms/step\n",
            "Epoch 95/150\n",
            "4/4 - 0s - loss: 0.0683 - accuracy: 0.9900 - 14ms/epoch - 4ms/step\n",
            "Epoch 96/150\n",
            "4/4 - 0s - loss: 0.0690 - accuracy: 0.9900 - 15ms/epoch - 4ms/step\n",
            "Epoch 97/150\n",
            "4/4 - 0s - loss: 0.0664 - accuracy: 0.9900 - 15ms/epoch - 4ms/step\n",
            "Epoch 98/150\n",
            "4/4 - 0s - loss: 0.0679 - accuracy: 0.9900 - 15ms/epoch - 4ms/step\n",
            "Epoch 99/150\n",
            "4/4 - 0s - loss: 0.0698 - accuracy: 0.9800 - 14ms/epoch - 3ms/step\n",
            "Epoch 100/150\n",
            "4/4 - 0s - loss: 0.0686 - accuracy: 0.9900 - 14ms/epoch - 4ms/step\n",
            "Epoch 101/150\n",
            "4/4 - 0s - loss: 0.0666 - accuracy: 0.9900 - 15ms/epoch - 4ms/step\n",
            "Epoch 102/150\n",
            "4/4 - 0s - loss: 0.0654 - accuracy: 0.9900 - 13ms/epoch - 3ms/step\n",
            "Epoch 103/150\n",
            "4/4 - 0s - loss: 0.0652 - accuracy: 0.9900 - 16ms/epoch - 4ms/step\n",
            "Epoch 104/150\n",
            "4/4 - 0s - loss: 0.0655 - accuracy: 0.9900 - 18ms/epoch - 5ms/step\n",
            "Epoch 105/150\n",
            "4/4 - 0s - loss: 0.0669 - accuracy: 0.9900 - 16ms/epoch - 4ms/step\n",
            "Epoch 106/150\n",
            "4/4 - 0s - loss: 0.0674 - accuracy: 0.9900 - 14ms/epoch - 3ms/step\n",
            "Epoch 107/150\n",
            "4/4 - 0s - loss: 0.0656 - accuracy: 0.9900 - 14ms/epoch - 4ms/step\n",
            "Epoch 108/150\n",
            "4/4 - 0s - loss: 0.0640 - accuracy: 0.9900 - 14ms/epoch - 3ms/step\n",
            "Epoch 109/150\n",
            "4/4 - 0s - loss: 0.0656 - accuracy: 0.9800 - 14ms/epoch - 4ms/step\n",
            "Epoch 110/150\n",
            "4/4 - 0s - loss: 0.0668 - accuracy: 0.9800 - 14ms/epoch - 3ms/step\n",
            "Epoch 111/150\n",
            "4/4 - 0s - loss: 0.0654 - accuracy: 0.9900 - 15ms/epoch - 4ms/step\n",
            "Epoch 112/150\n",
            "4/4 - 0s - loss: 0.0649 - accuracy: 0.9900 - 14ms/epoch - 3ms/step\n",
            "Epoch 113/150\n",
            "4/4 - 0s - loss: 0.0626 - accuracy: 0.9900 - 17ms/epoch - 4ms/step\n",
            "Epoch 114/150\n",
            "4/4 - 0s - loss: 0.0671 - accuracy: 0.9800 - 14ms/epoch - 3ms/step\n",
            "Epoch 115/150\n",
            "4/4 - 0s - loss: 0.0690 - accuracy: 0.9800 - 16ms/epoch - 4ms/step\n",
            "Epoch 116/150\n",
            "4/4 - 0s - loss: 0.0657 - accuracy: 0.9800 - 13ms/epoch - 3ms/step\n",
            "Epoch 117/150\n",
            "4/4 - 0s - loss: 0.0629 - accuracy: 0.9900 - 21ms/epoch - 5ms/step\n",
            "Epoch 118/150\n",
            "4/4 - 0s - loss: 0.0659 - accuracy: 0.9900 - 17ms/epoch - 4ms/step\n",
            "Epoch 119/150\n",
            "4/4 - 0s - loss: 0.0697 - accuracy: 0.9800 - 16ms/epoch - 4ms/step\n",
            "Epoch 120/150\n",
            "4/4 - 0s - loss: 0.0699 - accuracy: 0.9800 - 16ms/epoch - 4ms/step\n",
            "Epoch 121/150\n",
            "4/4 - 0s - loss: 0.0632 - accuracy: 0.9900 - 16ms/epoch - 4ms/step\n",
            "Epoch 122/150\n",
            "4/4 - 0s - loss: 0.0624 - accuracy: 0.9900 - 13ms/epoch - 3ms/step\n",
            "Epoch 123/150\n",
            "4/4 - 0s - loss: 0.0625 - accuracy: 0.9800 - 16ms/epoch - 4ms/step\n",
            "Epoch 124/150\n",
            "4/4 - 0s - loss: 0.0629 - accuracy: 0.9800 - 15ms/epoch - 4ms/step\n",
            "Epoch 125/150\n",
            "4/4 - 0s - loss: 0.0620 - accuracy: 0.9900 - 15ms/epoch - 4ms/step\n",
            "Epoch 126/150\n",
            "4/4 - 0s - loss: 0.0618 - accuracy: 0.9900 - 17ms/epoch - 4ms/step\n",
            "Epoch 127/150\n",
            "4/4 - 0s - loss: 0.0621 - accuracy: 0.9900 - 18ms/epoch - 5ms/step\n",
            "Epoch 128/150\n",
            "4/4 - 0s - loss: 0.0622 - accuracy: 0.9900 - 16ms/epoch - 4ms/step\n",
            "Epoch 129/150\n",
            "4/4 - 0s - loss: 0.0626 - accuracy: 0.9900 - 14ms/epoch - 3ms/step\n",
            "Epoch 130/150\n",
            "4/4 - 0s - loss: 0.0629 - accuracy: 0.9900 - 23ms/epoch - 6ms/step\n",
            "Epoch 131/150\n",
            "4/4 - 0s - loss: 0.0625 - accuracy: 0.9900 - 21ms/epoch - 5ms/step\n",
            "Epoch 132/150\n",
            "4/4 - 0s - loss: 0.0624 - accuracy: 0.9900 - 22ms/epoch - 6ms/step\n",
            "Epoch 133/150\n",
            "4/4 - 0s - loss: 0.0616 - accuracy: 0.9900 - 22ms/epoch - 5ms/step\n",
            "Epoch 134/150\n",
            "4/4 - 0s - loss: 0.0623 - accuracy: 0.9900 - 21ms/epoch - 5ms/step\n",
            "Epoch 135/150\n",
            "4/4 - 0s - loss: 0.0617 - accuracy: 0.9900 - 14ms/epoch - 3ms/step\n",
            "Epoch 136/150\n",
            "4/4 - 0s - loss: 0.0605 - accuracy: 0.9900 - 14ms/epoch - 4ms/step\n",
            "Epoch 137/150\n",
            "4/4 - 0s - loss: 0.0602 - accuracy: 0.9900 - 17ms/epoch - 4ms/step\n",
            "Epoch 138/150\n",
            "4/4 - 0s - loss: 0.0604 - accuracy: 0.9800 - 14ms/epoch - 4ms/step\n",
            "Epoch 139/150\n",
            "4/4 - 0s - loss: 0.0615 - accuracy: 0.9800 - 15ms/epoch - 4ms/step\n",
            "Epoch 140/150\n",
            "4/4 - 0s - loss: 0.0683 - accuracy: 0.9800 - 13ms/epoch - 3ms/step\n",
            "Epoch 141/150\n",
            "4/4 - 0s - loss: 0.0657 - accuracy: 0.9800 - 16ms/epoch - 4ms/step\n",
            "Epoch 142/150\n",
            "4/4 - 0s - loss: 0.0591 - accuracy: 0.9900 - 18ms/epoch - 4ms/step\n",
            "Epoch 143/150\n",
            "4/4 - 0s - loss: 0.0643 - accuracy: 0.9800 - 18ms/epoch - 5ms/step\n",
            "Epoch 144/150\n",
            "4/4 - 0s - loss: 0.0646 - accuracy: 0.9900 - 14ms/epoch - 3ms/step\n",
            "Epoch 145/150\n",
            "4/4 - 0s - loss: 0.0597 - accuracy: 0.9800 - 13ms/epoch - 3ms/step\n",
            "Epoch 146/150\n",
            "4/4 - 0s - loss: 0.0611 - accuracy: 0.9800 - 13ms/epoch - 3ms/step\n",
            "Epoch 147/150\n",
            "4/4 - 0s - loss: 0.0633 - accuracy: 0.9800 - 15ms/epoch - 4ms/step\n",
            "Epoch 148/150\n",
            "4/4 - 0s - loss: 0.0605 - accuracy: 0.9800 - 17ms/epoch - 4ms/step\n",
            "Epoch 149/150\n",
            "4/4 - 0s - loss: 0.0593 - accuracy: 0.9900 - 17ms/epoch - 4ms/step\n",
            "Epoch 150/150\n",
            "4/4 - 0s - loss: 0.0590 - accuracy: 0.9900 - 14ms/epoch - 4ms/step\n"
          ]
        },
        {
          "output_type": "execute_result",
          "data": {
            "text/plain": [
              "<keras.callbacks.History at 0x7f9b263b6940>"
            ]
          },
          "metadata": {},
          "execution_count": 14
        }
      ]
    },
    {
      "cell_type": "code",
      "source": [
        "# Step 4: Evaluation the model \n",
        "# evaluate the model\n",
        "loss, acc = model.evaluate(X_test, y_test, verbose=1)\n",
        "print('Test Accuracy: %.3f' % acc)"
      ],
      "metadata": {
        "colab": {
          "base_uri": "https://localhost:8080/"
        },
        "id": "DJnF6ClXhp9A",
        "outputId": "953bfd1f-4f8b-460f-ffc2-3765c13e7362"
      },
      "execution_count": null,
      "outputs": [
        {
          "output_type": "stream",
          "name": "stdout",
          "text": [
            "2/2 [==============================] - 0s 11ms/step - loss: 0.1415 - accuracy: 0.9600\n",
            "Test Accuracy: 0.960\n"
          ]
        }
      ]
    },
    {
      "cell_type": "code",
      "source": [
        "# Step 5 is to make a prediction\n",
        "# make a prediction\n",
        "row = [5.1,3.5,1.4,0.2]\n",
        "yhat = model.predict([row])\n",
        "print('Predicted: %s (class=%d)' % (yhat, argmax(yhat)))"
      ],
      "metadata": {
        "colab": {
          "base_uri": "https://localhost:8080/"
        },
        "id": "qjOeHRJYiD0p",
        "outputId": "5c3101b0-7ce0-4922-bb80-c22f58d643fe"
      },
      "execution_count": null,
      "outputs": [
        {
          "output_type": "stream",
          "name": "stdout",
          "text": [
            "1/1 [==============================] - 0s 376ms/step\n",
            "Predicted: [[9.9745876e-01 2.5412610e-03 5.0453375e-09]] (class=0)\n"
          ]
        }
      ]
    }
  ]
}